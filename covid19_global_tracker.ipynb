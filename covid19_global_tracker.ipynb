{
 "cells": [
  {
   "cell_type": "markdown",
   "id": "3bba3d12",
   "metadata": {},
   "source": [
    "\n",
    "# COVID-19 Global Data Tracker\n",
    "\n",
    "**Author:** _Mercy_ Wafula \n",
    "**Date:** 2025-08-21\n",
    "\n",
    "This notebook tracks global COVID-19 trends using the **Our World in Data** dataset.  \n",
    "You will: import, clean, analyze, and visualize cases, deaths, and vaccinations; and communicate insights.\n"
   ]
  },
  {
   "cell_type": "markdown",
   "id": "62a336bf",
   "metadata": {},
   "source": [
    "\n",
    "## Project Objectives\n",
    "- Import and clean COVID-19 global data\n",
    "- Analyze time trends (cases, deaths, vaccinations)\n",
    "- Compare metrics across countries/regions\n",
    "- Visualize with charts (and optional choropleth map)\n",
    "- Communicate findings with clear narrative\n"
   ]
  },
  {
   "cell_type": "markdown",
   "id": "40f1b956",
   "metadata": {},
   "source": [
    "\n",
    "## 1) Setup\n",
    "Install and import libraries. You may need to run the `pip install` cell once.\n"
   ]
  },
  {
   "cell_type": "code",
   "execution_count": null,
   "id": "9a349453",
   "metadata": {},
   "outputs": [],
   "source": [
    "\n",
    "# Run this once if needed (uncomment to install)\n",
    "# %pip install pandas matplotlib seaborn plotly geopandas pycountry\n",
    "\n",
    "import pandas as pd\n",
    "import numpy as np\n",
    "import matplotlib.pyplot as plt\n",
    "import seaborn as sns\n",
    "\n",
    "# Plotly is optional (for choropleth map)\n",
    "import plotly.express as px\n",
    "\n",
    "# For display options\n",
    "pd.set_option(\"display.max_columns\", 100)\n",
    "pd.set_option(\"display.width\", 120)\n"
   ]
  },
  {
   "cell_type": "markdown",
   "id": "d568dc7f",
   "metadata": {},
   "source": [
    "\n",
    "## 2) Data Collection & Loading\n",
    "\n",
    "We will use the Our World in Data (OWID) COVID-19 dataset (cleaned).  \n",
    "- Download: https://covid.ourworldindata.org/data/owid-covid-data.csv  \n",
    "Save it in the same folder as this notebook, or set `DATA_PATH` to the CSV URL.\n"
   ]
  },
  {
   "cell_type": "code",
   "execution_count": null,
   "id": "4501b269",
   "metadata": {},
   "outputs": [],
   "source": [
    "\n",
    "# Path to local file (preferred after first download) or use the URL directly\n",
    "DATA_PATH = \"owid-covid-data.csv\"  # or \"https://covid.ourworldindata.org/data/owid-covid-data.csv\"\n",
    "\n",
    "# Load data\n",
    "df = pd.read_csv(DATA_PATH, low_memory=False)\n",
    "print(df.shape)\n",
    "df.head()\n"
   ]
  },
  {
   "cell_type": "markdown",
   "id": "f44cd673",
   "metadata": {},
   "source": [
    "\n",
    "### Explore Structure\n"
   ]
  },
  {
   "cell_type": "code",
   "execution_count": null,
   "id": "8991d229",
   "metadata": {},
   "outputs": [],
   "source": [
    "\n",
    "# Columns overview\n",
    "df.columns.tolist()[:40]\n"
   ]
  },
  {
   "cell_type": "code",
   "execution_count": null,
   "id": "3f488039",
   "metadata": {},
   "outputs": [],
   "source": [
    "\n",
    "# Preview\n",
    "df.head(10)\n"
   ]
  },
  {
   "cell_type": "code",
   "execution_count": null,
   "id": "9f22fac6",
   "metadata": {},
   "outputs": [],
   "source": [
    "\n",
    "# Missing values snapshot (top 30 columns for brevity)\n",
    "df.isnull().sum().sort_values(ascending=False).head(30)\n"
   ]
  },
  {
   "cell_type": "markdown",
   "id": "474e403a",
   "metadata": {},
   "source": [
    "\n",
    "## 3) Data Cleaning\n",
    "\n",
    "- Keep relevant columns\n",
    "- Convert `date` to datetime\n",
    "- Filter to countries (exclude aggregates like \"World\", continents)\n",
    "- Optionally focus on a subset of countries (e.g., Kenya, USA, India)\n",
    "- Handle missing numeric values\n"
   ]
  },
  {
   "cell_type": "code",
   "execution_count": null,
   "id": "91c79395",
   "metadata": {},
   "outputs": [],
   "source": [
    "\n",
    "# Relevant columns\n",
    "cols = [\n",
    "    \"iso_code\",\"continent\",\"location\",\"date\",\n",
    "    \"total_cases\",\"new_cases\",\"total_deaths\",\"new_deaths\",\n",
    "    \"total_vaccinations\",\"people_vaccinated\",\"people_fully_vaccinated\",\n",
    "    \"total_boosters\",\"new_vaccinations\",\"population\",\"gdp_per_capita\"\n",
    "]\n",
    "df = df[cols].copy()\n",
    "\n",
    "# Convert date\n",
    "df[\"date\"] = pd.to_datetime(df[\"date\"], errors=\"coerce\")\n",
    "df = df.dropna(subset=[\"date\"])\n",
    "\n",
    "# Keep countries (exclude aggregates: iso_code starting with OWID_)\n",
    "df_countries = df[~df[\"iso_code\"].str.startswith(\"OWID\")].copy()\n",
    "\n",
    "# Choose focus countries (edit as needed)\n",
    "focus_countries = [\"Kenya\", \"United States\", \"India\"]\n",
    "df_focus = df_countries[df_countries[\"location\"].isin(focus_countries)].copy()\n",
    "\n",
    "# Sort\n",
    "df_focus = df_focus.sort_values([\"location\",\"date\"])\n",
    "\n",
    "# Handle missing numeric values (forward fill within each country)\n",
    "num_cols = [\n",
    "    \"total_cases\",\"new_cases\",\"total_deaths\",\"new_deaths\",\n",
    "    \"total_vaccinations\",\"people_vaccinated\",\"people_fully_vaccinated\",\n",
    "    \"total_boosters\",\"new_vaccinations\",\"population\",\"gdp_per_capita\"\n",
    "]\n",
    "df_focus[num_cols] = df_focus.groupby(\"location\")[num_cols].apply(lambda g: g.ffill().bfill())\n",
    "\n",
    "df_focus.head()\n"
   ]
  },
  {
   "cell_type": "markdown",
   "id": "ae81fb9f",
   "metadata": {},
   "source": [
    "\n",
    "## 4) Exploratory Data Analysis (EDA)\n",
    "\n",
    "### 4.1 Total Cases Over Time (Selected Countries)\n"
   ]
  },
  {
   "cell_type": "code",
   "execution_count": null,
   "id": "1316182a",
   "metadata": {},
   "outputs": [],
   "source": [
    "\n",
    "plt.figure()\n",
    "for country in focus_countries:\n",
    "    tmp = df_focus[df_focus[\"location\"]==country]\n",
    "    plt.plot(tmp[\"date\"], tmp[\"total_cases\"], label=country)\n",
    "plt.title(\"Total COVID-19 Cases Over Time\")\n",
    "plt.xlabel(\"Date\")\n",
    "plt.ylabel(\"Total Cases\")\n",
    "plt.legend()\n",
    "plt.tight_layout()\n",
    "plt.show()\n"
   ]
  },
  {
   "cell_type": "markdown",
   "id": "fb25cfea",
   "metadata": {},
   "source": [
    "\n",
    "### 4.2 Total Deaths Over Time (Selected Countries)\n"
   ]
  },
  {
   "cell_type": "code",
   "execution_count": null,
   "id": "06f69cff",
   "metadata": {},
   "outputs": [],
   "source": [
    "\n",
    "plt.figure()\n",
    "for country in focus_countries:\n",
    "    tmp = df_focus[df_focus[\"location\"]==country]\n",
    "    plt.plot(tmp[\"date\"], tmp[\"total_deaths\"], label=country)\n",
    "plt.title(\"Total COVID-19 Deaths Over Time\")\n",
    "plt.xlabel(\"Date\")\n",
    "plt.ylabel(\"Total Deaths\")\n",
    "plt.legend()\n",
    "plt.tight_layout()\n",
    "plt.show()\n"
   ]
  },
  {
   "cell_type": "markdown",
   "id": "86632775",
   "metadata": {},
   "source": [
    "\n",
    "### 4.3 Daily New Cases Comparison\n"
   ]
  },
  {
   "cell_type": "code",
   "execution_count": null,
   "id": "41ecd3e4",
   "metadata": {},
   "outputs": [],
   "source": [
    "\n",
    "plt.figure()\n",
    "for country in focus_countries:\n",
    "    tmp = df_focus[df_focus[\"location\"]==country]\n",
    "    plt.plot(tmp[\"date\"], tmp[\"new_cases\"].fillna(0), label=country)\n",
    "plt.title(\"Daily New COVID-19 Cases\")\n",
    "plt.xlabel(\"Date\")\n",
    "plt.ylabel(\"New Cases\")\n",
    "plt.legend()\n",
    "plt.tight_layout()\n",
    "plt.show()\n"
   ]
  },
  {
   "cell_type": "markdown",
   "id": "19d9ba9a",
   "metadata": {},
   "source": [
    "\n",
    "### 4.4 Case Fatality Ratio (CFR) — Death Rate\n"
   ]
  },
  {
   "cell_type": "code",
   "execution_count": null,
   "id": "4382e3c5",
   "metadata": {},
   "outputs": [],
   "source": [
    "\n",
    "df_focus[\"death_rate\"] = np.where(\n",
    "    df_focus[\"total_cases\"]>0,\n",
    "    (df_focus[\"total_deaths\"] / df_focus[\"total_cases\"]) * 100.0,\n",
    "    np.nan\n",
    ")\n",
    "\n",
    "plt.figure()\n",
    "for country in focus_countries:\n",
    "    tmp = df_focus[df_focus[\"location\"]==country]\n",
    "    plt.plot(tmp[\"date\"], tmp[\"death_rate\"], label=country)\n",
    "plt.title(\"Case Fatality Ratio (Total Deaths / Total Cases) %\")\n",
    "plt.xlabel(\"Date\")\n",
    "plt.ylabel(\"Death Rate (%)\")\n",
    "plt.legend()\n",
    "plt.tight_layout()\n",
    "plt.show()\n"
   ]
  },
  {
   "cell_type": "markdown",
   "id": "7267f94e",
   "metadata": {},
   "source": [
    "\n",
    "## 5) Visualizing Vaccination Progress\n"
   ]
  },
  {
   "cell_type": "code",
   "execution_count": null,
   "id": "f7b416b3",
   "metadata": {},
   "outputs": [],
   "source": [
    "\n",
    "plt.figure()\n",
    "for country in focus_countries:\n",
    "    tmp = df_focus[df_focus[\"location\"]==country]\n",
    "    plt.plot(tmp[\"date\"], tmp[\"people_vaccinated\"], label=country)\n",
    "plt.title(\"People with at least one dose\")\n",
    "plt.xlabel(\"Date\")\n",
    "plt.ylabel(\"People Vaccinated\")\n",
    "plt.legend()\n",
    "plt.tight_layout()\n",
    "plt.show()\n"
   ]
  },
  {
   "cell_type": "code",
   "execution_count": null,
   "id": "189aeeb5",
   "metadata": {},
   "outputs": [],
   "source": [
    "\n",
    "# Percent vaccinated (at least one dose)\n",
    "df_focus[\"pct_vaccinated\"] = np.where(\n",
    "    df_focus[\"population\"]>0,\n",
    "    (df_focus[\"people_vaccinated\"] / df_focus[\"population\"]) * 100.0,\n",
    "    np.nan\n",
    ")\n",
    "\n",
    "plt.figure()\n",
    "for country in focus_countries:\n",
    "    tmp = df_focus[df_focus[\"location\"]==country]\n",
    "    plt.plot(tmp[\"date\"], tmp[\"pct_vaccinated\"], label=country)\n",
    "plt.title(\"% Population Vaccinated (≥1 dose)\")\n",
    "plt.xlabel(\"Date\")\n",
    "plt.ylabel(\"Percent (%)\")\n",
    "plt.legend()\n",
    "plt.tight_layout()\n",
    "plt.show()\n"
   ]
  },
  {
   "cell_type": "markdown",
   "id": "623b7ce2",
   "metadata": {},
   "source": [
    "\n",
    "### 5.1 Top Countries by Total Cases (Latest Date)\n"
   ]
  },
  {
   "cell_type": "code",
   "execution_count": null,
   "id": "0c1984f7",
   "metadata": {},
   "outputs": [],
   "source": [
    "\n",
    "# Latest date per country\n",
    "idx = df_countries.groupby(\"location\")[\"date\"].transform(\"max\") == df_countries[\"date\"]\n",
    "latest = df_countries[idx].copy()\n",
    "\n",
    "top_cases = latest.nlargest(10, \"total_cases\")[[\"location\",\"total_cases\",\"total_deaths\",\"population\"]]\n",
    "\n",
    "plt.figure()\n",
    "plt.bar(top_cases[\"location\"], top_cases[\"total_cases\"])\n",
    "plt.title(\"Top 10 Countries by Total Cases (Latest Available)\")\n",
    "plt.xlabel(\"Country\")\n",
    "plt.ylabel(\"Total Cases\")\n",
    "plt.xticks(rotation=45, ha=\"right\")\n",
    "plt.tight_layout()\n",
    "plt.show()\n",
    "\n",
    "top_cases\n"
   ]
  },
  {
   "cell_type": "markdown",
   "id": "9f9aa39c",
   "metadata": {},
   "source": [
    "\n",
    "## 6) Optional: Choropleth Map (Cases or Vaccination Rate)\n"
   ]
  },
  {
   "cell_type": "code",
   "execution_count": null,
   "id": "7f5aa001",
   "metadata": {},
   "outputs": [],
   "source": [
    "\n",
    "# Prepare latest snapshot with iso_code and metrics\n",
    "latest_map = latest[[\"iso_code\",\"location\",\"total_cases\",\"people_vaccinated\",\"population\"]].copy()\n",
    "latest_map[\"pct_vaccinated\"] = np.where(\n",
    "    latest_map[\"population\"]>0,\n",
    "    (latest_map[\"people_vaccinated\"]/latest_map[\"population\"])*100.0,\n",
    "    np.nan\n",
    ")\n",
    "\n",
    "# Plot cases density choropleth (requires internet-safe rendering in Jupyter)\n",
    "fig = px.choropleth(\n",
    "    latest_map.dropna(subset=[\"iso_code\"]),\n",
    "    locations=\"iso_code\",\n",
    "    color=\"total_cases\",\n",
    "    hover_name=\"location\",\n",
    "    color_continuous_scale=\"Viridis\",\n",
    "    title=\"Total COVID-19 Cases by Country (Latest Available)\",\n",
    "    projection=\"natural earth\"\n",
    ")\n",
    "fig.show()\n"
   ]
  },
  {
   "cell_type": "markdown",
   "id": "5aed5587",
   "metadata": {},
   "source": [
    "\n",
    "## 7) Insights & Reporting (Write Your Narrative)\n",
    "\n",
    "- **Insight 1:** _e.g., Country X had the fastest vaccine rollout in 2021._\n",
    "- **Insight 2:** _e.g., Country Y shows a steady decline in new cases after vaccination reached Z%._\n",
    "- **Insight 3:** _e.g., Death rate stabilized after ..._\n",
    "\n",
    "Use this space to explain patterns, anomalies, and key comparisons.\n"
   ]
  },
  {
   "cell_type": "markdown",
   "id": "176dcd53",
   "metadata": {},
   "source": [
    "\n",
    "## 8) Reproducibility\n",
    "- Ensure the notebook runs top-to-bottom without errors.\n",
    "- Lock library versions (see `requirements.txt`).\n",
    "- Save figures if needed and export to PDF (optional).\n"
   ]
  },
  {
   "cell_type": "code",
   "execution_count": null,
   "id": "272e523d",
   "metadata": {},
   "outputs": [],
   "source": [
    "\n",
    "# Optional: Save a figure example\n",
    "# plt.figure()\n",
    "# ... your plot ...\n",
    "# plt.savefig(\"figure_example.png\", dpi=200, bbox_inches=\"tight\")\n"
   ]
  }
 ],
 "metadata": {
  "kernelspec": {
   "display_name": "Python 3 (ipykernel)",
   "language": "python",
   "name": "python3"
  },
  "language_info": {
   "codemirror_mode": {
    "name": "ipython",
    "version": 3
   },
   "file_extension": ".py",
   "mimetype": "text/x-python",
   "name": "python",
   "nbconvert_exporter": "python",
   "pygments_lexer": "ipython3",
   "version": "3.13.5"
  }
 },
 "nbformat": 4,
 "nbformat_minor": 5
}
